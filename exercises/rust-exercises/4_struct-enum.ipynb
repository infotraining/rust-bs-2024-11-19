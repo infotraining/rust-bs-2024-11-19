{
 "cells": [
  {
   "cell_type": "markdown",
   "metadata": {},
   "source": [
    "# Struct"
   ]
  },
  {
   "cell_type": "markdown",
   "metadata": {},
   "source": [
    "1."
   ]
  },
  {
   "cell_type": "code",
   "execution_count": 6,
   "metadata": {},
   "outputs": [
    {
     "name": "stdout",
     "output_type": "stream",
     "text": [
      "Success! Person { name: \"sunface\", age: 30, hobby: \"\" }\n"
     ]
    }
   ],
   "source": [
    "// Fix the error\n",
    "#[derive(Debug)]\n",
    "struct Person {\n",
    "    name: String,\n",
    "    age: u8,\n",
    "    hobby: String\n",
    "}\n",
    "\n",
    "fn main() {\n",
    "    let age = 30;\n",
    "    let p = Person {\n",
    "        name: String::from(\"sunface\"),\n",
    "        age,\n",
    "        hobby: String::new()\n",
    "    };\n",
    "\n",
    "    println!(\"Success! {:?}\", p);\n",
    "} \n",
    "\n",
    "main();"
   ]
  },
  {
   "cell_type": "markdown",
   "metadata": {},
   "source": [
    "2."
   ]
  },
  {
   "cell_type": "code",
   "execution_count": 11,
   "metadata": {},
   "outputs": [
    {
     "name": "stdout",
     "output_type": "stream",
     "text": [
      "Success!\n",
      "x: 1, y: 2, z: 3\n"
     ]
    }
   ],
   "source": [
    "// Fix the error and fill the blanks\n",
    "struct Color(i32, i32, i32);\n",
    "struct Point(i32, i32, i32);\n",
    "\n",
    "fn main() {\n",
    "    let v = Color(0, 127, 255);\n",
    "    check_color(v);\n",
    "\n",
    "    println!(\"Success!\");\n",
    "}   \n",
    "\n",
    "fn check_color(p: Color) {\n",
    "    let Color(x, y, z) = p;\n",
    "    assert_eq!(x, 0);\n",
    "    assert_eq!(p.1, 127);\n",
    "    assert_eq!(p.2, 255);\n",
    " }\n",
    "\n",
    " main();"
   ]
  },
  {
   "cell_type": "markdown",
   "metadata": {},
   "source": [
    "3."
   ]
  },
  {
   "cell_type": "code",
   "execution_count": 12,
   "metadata": {},
   "outputs": [
    {
     "name": "stdout",
     "output_type": "stream",
     "text": [
      "Success!\n"
     ]
    }
   ],
   "source": [
    "\n",
    "// Fill the blank and fix the error without adding/removing new line\n",
    "struct Person {\n",
    "    name: String,\n",
    "    age: u8,\n",
    "}\n",
    "fn main() {\n",
    "    let age = 18;\n",
    "    let mut p = Person {\n",
    "        name: String::from(\"sunface\"),\n",
    "        age,\n",
    "    };\n",
    "\n",
    "    // How can you believe sunface is only 18? \n",
    "    p.age = 30;\n",
    "\n",
    "    // Fill the blank\n",
    "    p.name = String::from(\"sunfei\");\n",
    "\n",
    "    println!(\"Success!\");\n",
    "}\n",
    "\n",
    "main();"
   ]
  },
  {
   "cell_type": "markdown",
   "metadata": {},
   "source": [
    "4."
   ]
  },
  {
   "cell_type": "code",
   "execution_count": 13,
   "metadata": {},
   "outputs": [
    {
     "name": "stdout",
     "output_type": "stream",
     "text": [
      "Success!\n"
     ]
    }
   ],
   "source": [
    "// Fill the blank to make the code work\n",
    "struct User {\n",
    "    active: bool,\n",
    "    username: String,\n",
    "    email: String,\n",
    "    sign_in_count: u64,\n",
    "}\n",
    "fn main() {\n",
    "    let u1 = User {\n",
    "        email: String::from(\"someone@example.com\"),\n",
    "        username: String::from(\"sunface\"),\n",
    "        active: true,\n",
    "        sign_in_count: 1,\n",
    "    };\n",
    "\n",
    "    let u2 = set_email(u1);\n",
    "\n",
    "    println!(\"Success!\");\n",
    "} \n",
    "\n",
    "fn set_email(u: User) -> User {\n",
    "    User {\n",
    "        email: String::from(\"contact@im.dev\"),\n",
    "        ..u\n",
    "    }\n",
    "}\n",
    "\n",
    "main();"
   ]
  },
  {
   "cell_type": "markdown",
   "metadata": {},
   "source": [
    "5."
   ]
  },
  {
   "cell_type": "code",
   "execution_count": 15,
   "metadata": {},
   "outputs": [
    {
     "name": "stdout",
     "output_type": "stream",
     "text": [
      "Rectangle { width: 60, height: 50 }\n"
     ]
    },
    {
     "name": "stderr",
     "output_type": "stream",
     "text": [
      "[src/lib.rs:6:16] 30 * scale = 60\n",
      "[src/lib.rs:10:5] &rect1 = Rectangle {\n",
      "    width: 60,\n",
      "    height: 50,\n",
      "}\n"
     ]
    }
   ],
   "source": [
    "// Fill the blanks to make the code work\n",
    "#[derive(Debug)]\n",
    "struct Rectangle {\n",
    "    width: u32,\n",
    "    height: u32,\n",
    "}\n",
    "\n",
    "fn main() {\n",
    "    let scale = 2;\n",
    "    let rect1 = Rectangle {\n",
    "        width: dbg!(30 * scale),// Print debug info to stderr and assign the value of  `30 * scale` to `width`\n",
    "        height: 50,\n",
    "    };\n",
    "\n",
    "    dbg!(&rect1); // Print debug info to stderr\n",
    "\n",
    "    println!(\"{:?}\", rect1); // Print debug info to stdout\n",
    "}\n",
    "\n",
    "main();"
   ]
  },
  {
   "cell_type": "markdown",
   "metadata": {},
   "source": [
    "# Enum"
   ]
  },
  {
   "cell_type": "markdown",
   "metadata": {},
   "source": [
    "1."
   ]
  },
  {
   "cell_type": "code",
   "execution_count": 17,
   "metadata": {},
   "outputs": [
    {
     "name": "stdout",
     "output_type": "stream",
     "text": [
      "Success!\n"
     ]
    }
   ],
   "source": [
    "// Fix the errors\n",
    "enum Number {\n",
    "    Zero,\n",
    "    One,\n",
    "    Two,\n",
    "}\n",
    "\n",
    "enum Number1 {\n",
    "    Zero = 0,\n",
    "    One,\n",
    "    Two,\n",
    "}\n",
    "\n",
    "// C-like enum\n",
    "enum Number2 {\n",
    "    Zero = 0,\n",
    "    One = 1,\n",
    "    Two = 2,\n",
    "}\n",
    "\n",
    "\n",
    "fn main() {\n",
    "    // An enum variant can be converted to a integer by `as`\n",
    "    assert_eq!(Number::One as u8, Number1::One as u8);\n",
    "    assert_eq!(Number1::One as u8, Number2::One as u8);\n",
    "\n",
    "    println!(\"Success!\");\n",
    "} \n",
    "\n",
    "main();"
   ]
  },
  {
   "cell_type": "markdown",
   "metadata": {},
   "source": [
    "2."
   ]
  },
  {
   "cell_type": "code",
   "execution_count": 18,
   "metadata": {},
   "outputs": [
    {
     "name": "stdout",
     "output_type": "stream",
     "text": [
      "Success!\n"
     ]
    }
   ],
   "source": [
    "// Fill in the blank\n",
    "enum Message {\n",
    "    Quit,\n",
    "    Move { x: i32, y: i32 },\n",
    "    Write(String),\n",
    "    ChangeColor(i32, i32, i32),\n",
    "}\n",
    "\n",
    "fn main() {\n",
    "    let msg1 = Message::Move{x: 1, y: 2}; // Instantiating with x = 1, y = 2 \n",
    "    let msg2 = Message::Write(\"hello world\".to_string()); // Instantiating with \"hello, world!\"\n",
    "\n",
    "    println!(\"Success!\");\n",
    "} \n",
    "\n",
    "main();"
   ]
  },
  {
   "cell_type": "markdown",
   "metadata": {},
   "source": [
    "3."
   ]
  },
  {
   "cell_type": "code",
   "execution_count": null,
   "metadata": {},
   "outputs": [
    {
     "name": "stderr",
     "output_type": "stream",
     "text": [
      "thread '<unnamed>' panicked at src/lib.rs:7:9:\n",
      "assertion `left == right` failed\n",
      "  left: 1\n",
      " right: 2\n",
      "stack backtrace:\n",
      "   0: std::panicking::begin_panic_handler\n",
      "             at /rustc/f6e511eec7342f59a25f7c0534f1dbea00d01b14\\library/std\\src\\panicking.rs:662\n",
      "   1: core::panicking::panic_fmt\n",
      "             at /rustc/f6e511eec7342f59a25f7c0534f1dbea00d01b14\\library/core\\src\\panicking.rs:74\n",
      "   2: core::panicking::assert_failed_inner\n",
      "             at /rustc/f6e511eec7342f59a25f7c0534f1dbea00d01b14\\library/core\\src\\panicking.rs:412\n",
      "   3: <unknown>\n",
      "   4: <unknown>\n",
      "   5: <unknown>\n",
      "   6: <unknown>\n",
      "   7: <unknown>\n",
      "   8: <unknown>\n",
      "   9: <unknown>\n",
      "  10: <unknown>\n",
      "  11: <unknown>\n",
      "  12: <unknown>\n",
      "  13: <unknown>\n",
      "  14: BaseThreadInitThunk\n",
      "  15: RtlUserThreadStart\n",
      "note: Some details are omitted, run with `RUST_BACKTRACE=full` for a verbose backtrace.\n"
     ]
    }
   ],
   "source": [
    "// Fill in the blank and fix the error\n",
    "enum Message {\n",
    "    Quit,\n",
    "    Move { x: i32, y: i32 },\n",
    "    Write(String),\n",
    "    ChangeColor(i32, i32, i32),\n",
    "}\n",
    "\n",
    "fn main() {\n",
    "    let msg = Message::Move{x: 1, y: 1};\n",
    "\n",
    "    if let Message::Move{x: a, y: b} = msg {\n",
    "        assert_eq!(a, b);\n",
    "    } else {\n",
    "        panic!(\"NEVER LET THIS RUN！\");\n",
    "    }\n",
    "\n",
    "    println!(\"Success!\");\n",
    "} \n",
    "\n",
    "main();"
   ]
  },
  {
   "cell_type": "markdown",
   "metadata": {},
   "source": [
    "4."
   ]
  },
  {
   "cell_type": "code",
   "execution_count": 24,
   "metadata": {},
   "outputs": [],
   "source": [
    "// Fill in the blank and fix the errors\n",
    "#[derive(Debug)]\n",
    "enum Message {\n",
    "    Quit,\n",
    "    Move { x: i32, y: i32 },\n",
    "    Write(String),\n",
    "    ChangeColor(i32, i32, i32),\n",
    "}\n",
    "\n",
    "fn main() {\n",
    "    let msgs: [Message; 3] = [\n",
    "        Message::Quit,\n",
    "        Message::Move{x:1, y:3},\n",
    "        Message::ChangeColor(255,255,0)\n",
    "    ];\n",
    "\n",
    "    for msg in msgs {\n",
    "        show_message(msg)\n",
    "    }\n",
    "} \n",
    "\n",
    "fn show_message(msg: Message) {\n",
    "    println!(\"{:?}\", msg);\n",
    "}"
   ]
  }
 ],
 "metadata": {
  "kernelspec": {
   "display_name": "Rust",
   "language": "rust",
   "name": "rust"
  },
  "language_info": {
   "codemirror_mode": "rust",
   "file_extension": ".rs",
   "mimetype": "text/rust",
   "name": "rust",
   "pygment_lexer": "rust",
   "version": ""
  }
 },
 "nbformat": 4,
 "nbformat_minor": 2
}
