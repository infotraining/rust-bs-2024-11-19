{
 "cells": [
  {
   "cell_type": "markdown",
   "metadata": {},
   "source": [
    "# String"
   ]
  },
  {
   "cell_type": "markdown",
   "metadata": {},
   "source": [
    "1."
   ]
  },
  {
   "cell_type": "code",
   "execution_count": null,
   "metadata": {
    "vscode": {
     "languageId": "rust"
    }
   },
   "outputs": [],
   "source": [
    "// Fix error without adding new line\n",
    "fn main() {\n",
    "    let s: str = \"hello, world\";\n",
    "\n",
    "    println!(\"Success!\");\n",
    "}\n",
    "\n",
    "main();"
   ]
  },
  {
   "cell_type": "markdown",
   "metadata": {},
   "source": [
    "2."
   ]
  },
  {
   "cell_type": "code",
   "execution_count": null,
   "metadata": {
    "vscode": {
     "languageId": "rust"
    }
   },
   "outputs": [],
   "source": [
    "// Fill the blank\n",
    "fn main() {\n",
    "    let mut s = __;\n",
    "    s.push_str(\"hello, world\");\n",
    "    s.push('!');\n",
    "\n",
    "    assert_eq!(s, \"hello, world!\");\n",
    "\n",
    "    println!(\"Success!\");\n",
    "}\n",
    "\n",
    "main();"
   ]
  },
  {
   "cell_type": "markdown",
   "metadata": {},
   "source": [
    "3."
   ]
  },
  {
   "cell_type": "code",
   "execution_count": null,
   "metadata": {
    "vscode": {
     "languageId": "rust"
    }
   },
   "outputs": [
    {
     "name": "stdout",
     "output_type": "stream",
     "text": [
      "Hello world\n"
     ]
    }
   ],
   "source": [
    "// Fix all errors without adding newline\n",
    "fn main() {\n",
    "    let s = String::from(\"hello\");\n",
    "    s.push(',');\n",
    "    s.push(\" world\");\n",
    "    s += \"!\".to_string();\n",
    "\n",
    "    println!(\"{}\", s);\n",
    "}\n",
    "\n",
    "main();"
   ]
  },
  {
   "cell_type": "markdown",
   "metadata": {},
   "source": [
    "4."
   ]
  },
  {
   "cell_type": "code",
   "execution_count": null,
   "metadata": {
    "vscode": {
     "languageId": "rust"
    }
   },
   "outputs": [],
   "source": [
    "// Fix error with at least two solutions\n",
    "fn main() {\n",
    "    let s = \"hello, world\";\n",
    "    greetings(s)\n",
    "}\n",
    "\n",
    "fn greetings(s: String) {\n",
    "    println!(\"{}\", s)\n",
    "}\n",
    "\n",
    "main();"
   ]
  },
  {
   "cell_type": "markdown",
   "metadata": {},
   "source": [
    "# Array"
   ]
  },
  {
   "cell_type": "markdown",
   "metadata": {},
   "source": [
    "1."
   ]
  },
  {
   "cell_type": "code",
   "execution_count": null,
   "metadata": {
    "vscode": {
     "languageId": "rust"
    }
   },
   "outputs": [],
   "source": [
    "fn main() {\n",
    "    // Fill the blank with proper array type\n",
    "    let arr: __ = [1, 2, 3, 4, 5];\n",
    "\n",
    "    // Modify the code below to make it work\n",
    "    assert!(arr.len() == 4);\n",
    "\n",
    "    println!(\"Success!\");\n",
    "}\n",
    "\n",
    "main();"
   ]
  },
  {
   "cell_type": "markdown",
   "metadata": {},
   "source": [
    "2."
   ]
  },
  {
   "cell_type": "code",
   "execution_count": null,
   "metadata": {
    "vscode": {
     "languageId": "rust"
    }
   },
   "outputs": [],
   "source": [
    "fn main() {\n",
    "    // We can ignore parts of the array type or even the whole type, let the compiler infer it for us\n",
    "    let arr0 = [1, 2, 3];\n",
    "    let arr: [_; 3] = ['a', 'b', 'c'];\n",
    "    \n",
    "    // Fill the blank\n",
    "    // Arrays are stack allocated, `std::mem::size_of_val` returns the bytes which an array occupies\n",
    "    // A char takes 4 bytes in Rust: Unicode char\n",
    "    assert!(std::mem::size_of_val(&arr) == __);\n",
    "\n",
    "    println!(\"Success!\");\n",
    "}\n",
    "\n",
    "main();"
   ]
  },
  {
   "cell_type": "markdown",
   "metadata": {},
   "source": [
    "# Slice"
   ]
  },
  {
   "cell_type": "markdown",
   "metadata": {},
   "source": [
    "1."
   ]
  },
  {
   "cell_type": "code",
   "execution_count": null,
   "metadata": {
    "vscode": {
     "languageId": "rust"
    }
   },
   "outputs": [],
   "source": [
    "// Fix the errors, DON'T add new lines!\n",
    "fn main() {\n",
    "    let arr = [1, 2, 3];\n",
    "    let s1: [i32] = arr[0..2];\n",
    "\n",
    "    let s2: str = \"hello, world\" as str;\n",
    "\n",
    "    println!(\"Success!\");\n",
    "}\n",
    "\n",
    "main();"
   ]
  },
  {
   "cell_type": "markdown",
   "metadata": {},
   "source": [
    "2."
   ]
  },
  {
   "cell_type": "code",
   "execution_count": null,
   "metadata": {
    "vscode": {
     "languageId": "rust"
    }
   },
   "outputs": [],
   "source": [
    "fn main() {\n",
    "    let arr: [i32; 5] = [1, 2, 3, 4, 5];\n",
    "    // Fill the blanks to make the code work\n",
    "    let slice: __ = __;\n",
    "    assert_eq!(slice, &[2, 3, 4]);\n",
    "\n",
    "    println!(\"Success!\");\n",
    "}\n",
    "\n",
    "main();"
   ]
  },
  {
   "cell_type": "markdown",
   "metadata": {},
   "source": []
  }
 ],
 "metadata": {
  "kernelspec": {
   "display_name": "Rust",
   "language": "rust",
   "name": "rust"
  },
  "language_info": {
   "codemirror_mode": "rust",
   "file_extension": ".rs",
   "mimetype": "text/rust",
   "name": "Rust",
   "pygment_lexer": "rust",
   "version": ""
  }
 },
 "nbformat": 4,
 "nbformat_minor": 2
}
