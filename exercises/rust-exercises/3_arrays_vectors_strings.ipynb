{
 "cells": [
  {
   "cell_type": "markdown",
   "metadata": {},
   "source": [
    "# String"
   ]
  },
  {
   "cell_type": "markdown",
   "metadata": {},
   "source": [
    "1."
   ]
  },
  {
   "cell_type": "code",
   "execution_count": 2,
   "metadata": {},
   "outputs": [
    {
     "name": "stdout",
     "output_type": "stream",
     "text": [
      "Success!\n"
     ]
    }
   ],
   "source": [
    "// Fix error without adding new line\n",
    "fn main() {\n",
    "    let s: &str = \"hello, world\";\n",
    "\n",
    "    println!(\"Success!\");\n",
    "}\n",
    "\n",
    "main();"
   ]
  },
  {
   "cell_type": "markdown",
   "metadata": {},
   "source": [
    "2."
   ]
  },
  {
   "cell_type": "code",
   "execution_count": 3,
   "metadata": {},
   "outputs": [
    {
     "name": "stdout",
     "output_type": "stream",
     "text": [
      "Success!\n"
     ]
    }
   ],
   "source": [
    "// Fill the blank\n",
    "fn main() {\n",
    "    let mut s = String::new();\n",
    "    s.push_str(\"hello, world\");\n",
    "    s.push('!');\n",
    "\n",
    "    assert_eq!(s, \"hello, world!\");\n",
    "\n",
    "    println!(\"Success!\");\n",
    "}\n",
    "\n",
    "main();"
   ]
  },
  {
   "cell_type": "markdown",
   "metadata": {},
   "source": [
    "3."
   ]
  },
  {
   "cell_type": "code",
   "execution_count": 13,
   "metadata": {},
   "outputs": [
    {
     "name": "stdout",
     "output_type": "stream",
     "text": [
      "hello, world!!@@@\n"
     ]
    }
   ],
   "source": [
    "// Fix all errors without adding newline\n",
    "fn main() {\n",
    "    let mut s = String::from(\"hello\");\n",
    "    s.push(',');\n",
    "    s.push_str(\" world\");\n",
    "    s += \"!\";\n",
    "    s.push('!');\n",
    "\n",
    "    let token: String = \"@@@\".to_string();\n",
    "    let new_s = s + &token;\n",
    "\n",
    "    println!(\"{}\", new_s);\n",
    "}\n",
    "\n",
    "main();"
   ]
  },
  {
   "cell_type": "markdown",
   "metadata": {},
   "source": [
    "4."
   ]
  },
  {
   "cell_type": "code",
   "execution_count": 17,
   "metadata": {},
   "outputs": [
    {
     "name": "stdout",
     "output_type": "stream",
     "text": [
      "hello, world\n"
     ]
    }
   ],
   "source": [
    "// Fix error with at least two solutions\n",
    "fn main() {\n",
    "    let s = \"hello, world\".to_string();\n",
    "    greetings(&s)\n",
    "}\n",
    "\n",
    "fn greetings(s: &str) {\n",
    "    println!(\"{}\", s)\n",
    "}\n",
    "\n",
    "main();"
   ]
  },
  {
   "cell_type": "markdown",
   "metadata": {},
   "source": [
    "# Array"
   ]
  },
  {
   "cell_type": "markdown",
   "metadata": {},
   "source": [
    "1."
   ]
  },
  {
   "cell_type": "code",
   "execution_count": 18,
   "metadata": {},
   "outputs": [
    {
     "name": "stdout",
     "output_type": "stream",
     "text": [
      "Success!\n"
     ]
    }
   ],
   "source": [
    "fn main() {\n",
    "    // Fill the blank with proper array type\n",
    "    let arr: [i32; 5] = [1, 2, 3, 4, 5];\n",
    "\n",
    "    // Modify the code below to make it work\n",
    "    assert!(arr.len() == 5);\n",
    "\n",
    "    println!(\"Success!\");\n",
    "}\n",
    "\n",
    "main();"
   ]
  },
  {
   "cell_type": "markdown",
   "metadata": {},
   "source": [
    "2."
   ]
  },
  {
   "cell_type": "code",
   "execution_count": 21,
   "metadata": {},
   "outputs": [
    {
     "name": "stdout",
     "output_type": "stream",
     "text": [
      "Success!\n"
     ]
    }
   ],
   "source": [
    "fn main() {\n",
    "    // We can ignore parts of the array type or even the whole type, let the compiler infer it for us\n",
    "    let arr0 = [1, 2, 3];\n",
    "    let arr: [char; 3] = ['a', 'b', 'c'];\n",
    "    \n",
    "    // Fill the blank\n",
    "    // Arrays are stack allocated, `std::mem::size_of_val` returns the bytes which an array occupies\n",
    "    // A char takes 4 bytes in Rust: Unicode char\n",
    "    assert!(std::mem::size_of_val(&arr) == 12);\n",
    "\n",
    "    println!(\"Success!\");\n",
    "}\n",
    "\n",
    "main();"
   ]
  },
  {
   "cell_type": "markdown",
   "metadata": {},
   "source": [
    "# Slice"
   ]
  },
  {
   "cell_type": "markdown",
   "metadata": {},
   "source": [
    "1."
   ]
  },
  {
   "cell_type": "code",
   "execution_count": 22,
   "metadata": {},
   "outputs": [
    {
     "name": "stdout",
     "output_type": "stream",
     "text": [
      "Success!\n"
     ]
    }
   ],
   "source": [
    "// Fix the errors, DON'T add new lines!\n",
    "fn main() {\n",
    "    let arr = [1, 2, 3];\n",
    "    let s1: &[i32] = &arr[0..2];\n",
    "\n",
    "    let s2: &str = \"hello, world\";\n",
    "\n",
    "    println!(\"Success!\");\n",
    "}\n",
    "\n",
    "main();"
   ]
  },
  {
   "cell_type": "markdown",
   "metadata": {},
   "source": [
    "2."
   ]
  },
  {
   "cell_type": "code",
   "execution_count": 26,
   "metadata": {},
   "outputs": [
    {
     "name": "stdout",
     "output_type": "stream",
     "text": [
      "Success!\n"
     ]
    }
   ],
   "source": [
    "fn main() {\n",
    "    let arr: [i32; 5] = [1, 2, 3, 4, 5];\n",
    "    // Fill the blanks to make the code work\n",
    "    let slice: &[i32] = &arr[1..4];\n",
    "    assert_eq!(slice, &[2, 3, 4]);\n",
    "\n",
    "    println!(\"Success!\");\n",
    "}\n",
    "\n",
    "main();"
   ]
  }
 ],
 "metadata": {
  "kernelspec": {
   "display_name": "Rust",
   "language": "rust",
   "name": "rust"
  },
  "language_info": {
   "codemirror_mode": "rust",
   "file_extension": ".rs",
   "mimetype": "text/rust",
   "name": "rust",
   "pygment_lexer": "rust",
   "version": ""
  }
 },
 "nbformat": 4,
 "nbformat_minor": 2
}
