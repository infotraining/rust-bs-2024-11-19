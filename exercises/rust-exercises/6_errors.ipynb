{
 "cells": [
  {
   "cell_type": "markdown",
   "metadata": {},
   "source": [
    "# Errors"
   ]
  },
  {
   "cell_type": "markdown",
   "metadata": {},
   "source": [
    "1."
   ]
  },
  {
   "cell_type": "code",
   "execution_count": 19,
   "metadata": {},
   "outputs": [
    {
     "name": "stdout",
     "output_type": "stream",
     "text": [
      "Success!\n"
     ]
    }
   ],
   "source": [
    "// FILL in the blanks and FIX the errors\n",
    "use std::num::ParseIntError;\n",
    "use std::num::IntErrorKind::InvalidDigit\n",
    "\n",
    "fn multiply_ver1(n1_str: &str, n2_str: &str) -> Result<i32, ParseIntError> {\n",
    "    let n1 = n1_str.parse::<i32>();\n",
    "    let n2 = n2_str.parse::<i32>();\n",
    " \n",
    "    match (n1, n2) {\n",
    "        (Ok(n1_val), Ok(n2_val)) => Ok(n1_val * n2_val),\n",
    "        (Err(e), _) => Err(e),\n",
    "        (_, Err(e)) => Err(e),\n",
    "    }\n",
    "}\n",
    "\n",
    "fn multiply_ver1(n1_str: &str, n2_str: &str) -> Result<i32, ParseIntError> {\n",
    "    let n1 = n1_str.parse::<i32>()?;\n",
    "    let n2 = n2_str.parse::<i32>()?;\n",
    " \n",
    "    Ok(n1 * n2)\n",
    "}\n",
    "\n",
    "fn main() {\n",
    "    let result = multiply(\"10\", \"2\");\n",
    "    assert_eq!(result, Ok(20));\n",
    "\n",
    "    let result = multiply(\"t\", \"2\");\n",
    "    assert_eq!(result.err().unwrap().kind(), &InvalidDigit);\n",
    "\n",
    "    println!(\"Success!\");\n",
    "}\n",
    "\n",
    "main();"
   ]
  },
  {
   "cell_type": "markdown",
   "metadata": {},
   "source": [
    "2."
   ]
  },
  {
   "cell_type": "code",
   "execution_count": 20,
   "metadata": {},
   "outputs": [
    {
     "name": "stdout",
     "output_type": "stream",
     "text": [
      "Success!\n"
     ]
    }
   ],
   "source": [
    "use std::fs;\n",
    "use std::io;\n",
    "use std::num;\n",
    "\n",
    "enum CliError {\n",
    "    IoError(io::Error),\n",
    "    ParseError(num::ParseIntError),\n",
    "}\n",
    "\n",
    "impl From<io::Error> for CliError {\n",
    "    fn from(err: io::Error) -> Self {\n",
    "        CliError::IoError(err)\n",
    "    }\n",
    "}\n",
    " \n",
    "impl From<num::ParseIntError> for CliError {\n",
    "    fn from(err: num::ParseIntError) -> Self {\n",
    "        CliError::ParseError(err)\n",
    "    }\n",
    "}\n",
    "\n",
    "fn open_and_parse_file(file_name: &str) -> Result<i32, CliError> {\n",
    "    // ? automatically converts io::Error to CliError\n",
    "    let contents = fs::read_to_string(&file_name)?;\n",
    "    // num::ParseIntError -> CliError\n",
    "    let num: i32 = contents.trim().parse()?;\n",
    "    Ok(num)\n",
    "}\n",
    "\n",
    "fn main() {\n",
    "    println!(\"Success!\");\n",
    "}\n",
    "\n",
    "main();"
   ]
  }
 ],
 "metadata": {
  "kernelspec": {
   "display_name": "Rust",
   "language": "rust",
   "name": "rust"
  },
  "language_info": {
   "codemirror_mode": "rust",
   "file_extension": ".rs",
   "mimetype": "text/rust",
   "name": "rust",
   "pygment_lexer": "rust",
   "version": ""
  }
 },
 "nbformat": 4,
 "nbformat_minor": 2
}
