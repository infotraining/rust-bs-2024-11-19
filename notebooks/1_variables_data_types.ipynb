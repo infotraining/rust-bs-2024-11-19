{
 "cells": [
  {
   "cell_type": "markdown",
   "metadata": {},
   "source": [
    "# Hello world in Rust"
   ]
  },
  {
   "cell_type": "code",
   "execution_count": null,
   "metadata": {
    "vscode": {
     "languageId": "rust"
    }
   },
   "outputs": [],
   "source": [
    "// first program in Rust\n",
    "\n",
    "fn main() -> () {\n",
    "    let x; // i32\n",
    "    x = 42; \n",
    "    println!(\"Hello, World! x = {}\", x);\n",
    "}"
   ]
  },
  {
   "cell_type": "code",
   "execution_count": 9,
   "metadata": {
    "vscode": {
     "languageId": "rust"
    }
   },
   "outputs": [
    {
     "name": "stdout",
     "output_type": "stream",
     "text": [
      "Hello, World! x = 42\n"
     ]
    }
   ],
   "source": [
    "main();"
   ]
  },
  {
   "cell_type": "markdown",
   "metadata": {},
   "source": [
    "# Comments"
   ]
  },
  {
   "cell_type": "code",
   "execution_count": 27,
   "metadata": {
    "vscode": {
     "languageId": "rust"
    }
   },
   "outputs": [],
   "source": [
    "// this is a comment\n",
    "\n",
    "/* this is\n",
    "   multiline\n",
    "   comment */\n",
    "\n",
    "/// this is a doc comment - rustdoc can compile this comments into project documentation"
   ]
  },
  {
   "cell_type": "markdown",
   "metadata": {},
   "source": [
    "# Variables and Data Types"
   ]
  },
  {
   "cell_type": "markdown",
   "metadata": {},
   "source": [
    "## Declaring variables"
   ]
  },
  {
   "cell_type": "code",
   "execution_count": 28,
   "metadata": {
    "vscode": {
     "languageId": "rust"
    }
   },
   "outputs": [],
   "source": [
    "let age: u8 = 30;\n",
    "let pi: f64 = 3.14159;\n",
    "let is_ok: bool = true;"
   ]
  },
  {
   "cell_type": "code",
   "execution_count": 29,
   "metadata": {
    "vscode": {
     "languageId": "rust"
    }
   },
   "outputs": [],
   "source": [
    "let n = 0; // n: int32\n",
    "let e = 2.718f64; // e: f64\n",
    "let is_done = false; // is_done: bool"
   ]
  },
  {
   "cell_type": "markdown",
   "metadata": {},
   "source": [
    "* Variables are **immutable** by default"
   ]
  },
  {
   "cell_type": "code",
   "execution_count": 15,
   "metadata": {
    "vscode": {
     "languageId": "rust"
    }
   },
   "outputs": [
    {
     "name": "stdout",
     "output_type": "stream",
     "text": [
      "step=1\n",
      "step=2\n"
     ]
    }
   ],
   "source": [
    "let mut step = 1;\n",
    "println!(\"step={}\", step);\n",
    "step = 2;\n",
    "println!(\"step={}\", step);"
   ]
  },
  {
   "cell_type": "markdown",
   "metadata": {},
   "source": [
    "* All variables must be initialized before use"
   ]
  },
  {
   "cell_type": "code",
   "execution_count": 17,
   "metadata": {
    "vscode": {
     "languageId": "rust"
    }
   },
   "outputs": [
    {
     "name": "stdout",
     "output_type": "stream",
     "text": [
      "id=665\n"
     ]
    }
   ],
   "source": [
    "let id: u32;\n",
    "id = 665;\n",
    "println!(\"id={}\", id);"
   ]
  },
  {
   "cell_type": "markdown",
   "metadata": {},
   "source": [
    "## Mutable variables"
   ]
  },
  {
   "cell_type": "code",
   "execution_count": 18,
   "metadata": {
    "vscode": {
     "languageId": "rust"
    }
   },
   "outputs": [
    {
     "name": "stdout",
     "output_type": "stream",
     "text": [
      "Initial count: 0\n",
      "Updated count: 1\n",
      "Updated count: 2\n"
     ]
    }
   ],
   "source": [
    "let mut count = 0;\n",
    "println!(\"Initial count: {}\", count);\n",
    "count += 1;\n",
    "println!(\"Updated count: {}\", count);\n",
    "count += 1;\n",
    "println!(\"Updated count: {}\", count);"
   ]
  },
  {
   "cell_type": "markdown",
   "metadata": {},
   "source": [
    "## Shadowing"
   ]
  },
  {
   "cell_type": "code",
   "execution_count": 20,
   "metadata": {
    "vscode": {
     "languageId": "rust"
    }
   },
   "outputs": [
    {
     "name": "stdout",
     "output_type": "stream",
     "text": [
      "block variable: 3.14\n",
      "block variable outer: 99\n",
      "outer variable: 42\n"
     ]
    }
   ],
   "source": [
    "fn main() { \n",
    "    let outer = 42; \n",
    "     { // start of code block \n",
    "          let inner = 3.14; \n",
    "          println!(\"block variable: {}\", inner); \n",
    "          let outer = 99; // shadows the first outer variable \n",
    "          println!(\"block variable outer: {}\", outer); \n",
    "      } // end of code block \n",
    "      println!(\"outer variable: {}\", outer); \n",
    "  } \n",
    "\n",
    "main();"
   ]
  },
  {
   "cell_type": "markdown",
   "metadata": {},
   "source": [
    "## Constants"
   ]
  },
  {
   "cell_type": "code",
   "execution_count": 21,
   "metadata": {
    "vscode": {
     "languageId": "rust"
    }
   },
   "outputs": [],
   "source": [
    "const SECONDS_IN_MINUTE: u32 = 60;\n",
    "const MINUTES_IN_HOUR: u32 = 60;\n",
    "const SECONDS_IN_HOUR: u32 = SECONDS_IN_MINUTE * MINUTES_IN_HOUR;"
   ]
  },
  {
   "cell_type": "code",
   "execution_count": 22,
   "metadata": {
    "vscode": {
     "languageId": "rust"
    }
   },
   "outputs": [
    {
     "name": "stdout",
     "output_type": "stream",
     "text": [
      "seconds in one hour: 3600\n"
     ]
    }
   ],
   "source": [
    "println!(\"seconds in one hour: {}\", SECONDS_IN_HOUR);"
   ]
  },
  {
   "cell_type": "markdown",
   "metadata": {},
   "source": [
    "* **Constants** are values that are bound to a name and are not allowed to change\n",
    "* Constants can be declared in any scope, including the global scope\n",
    "* Rust’s naming convention for constants is to use all uppercase with underscores between words"
   ]
  },
  {
   "cell_type": "markdown",
   "metadata": {},
   "source": [
    "## Integer types\n",
    "\n",
    "| Length | Signed | Unsigned |\n",
    "|--------|--------|----------|\n",
    "| 8-bit  | i8     | u8       |\n",
    "| 16-bit | i16    | u16      |\n",
    "| 32-bit | i32    | u32      |\n",
    "| 64-bit | i64    | u64      |\n",
    "| 128-bit| i128   | u128     |\n",
    "| arch   | isize  | usize    |\n",
    "\n",
    "* the `isize` and `usize` types depend on the architecture of the computer your program is running on, which is denoted in the table as “arch”: 64 bits if you’re on a 64-bit architecture and 32 bits if you’re on a 32-bit architecture."
   ]
  },
  {
   "cell_type": "markdown",
   "metadata": {
    "vscode": {
     "languageId": "rust"
    }
   },
   "source": [
    "### Number literals\n",
    "\n",
    "| Number literals | Example       |\n",
    "|-----------------|---------------|\n",
    "| Decimal         | 98_222        |\n",
    "| Hex             | 0xff          |\n",
    "| Octal           | 0o77          |\n",
    "| Binary          | 0b1111_0000   |\n",
    "| Byte (u8 only)  | b'A'          |"
   ]
  },
  {
   "cell_type": "code",
   "execution_count": null,
   "metadata": {
    "vscode": {
     "languageId": "rust"
    }
   },
   "outputs": [],
   "source": [
    "let one = 1u32; // u32\n",
    "let one_million = 1_000_000;\n",
    "let flag = 0xff;\n",
    "let one_byte: u8 = 0b1111_0000;"
   ]
  },
  {
   "cell_type": "code",
   "execution_count": 26,
   "metadata": {
    "vscode": {
     "languageId": "rust"
    }
   },
   "outputs": [],
   "source": [
    "let x: i64 = 42; // i64\n",
    "let y: u32 = x as u32;"
   ]
  },
  {
   "cell_type": "markdown",
   "metadata": {},
   "source": [
    "### Integer Overflow\n",
    "\n",
    "* Integer overflow occurs when an arithmetic operation attempts to create a numeric value that is outside the range that can be represented with a given number of bits. For example, if you add 1 to the maximum value of an 8-bit integer (`u8`), it will overflow"
   ]
  },
  {
   "cell_type": "markdown",
   "metadata": {},
   "source": [
    "\n",
    "#### Wrapping Arithmetic\n",
    "\n",
    "* Using methods like `wrapping_add`, `wrapping_sub`, `wrapping_mul`, and `wrapping_neg`, which perform the operation and then wrap around on overflow."
   ]
  },
  {
   "cell_type": "code",
   "execution_count": 2,
   "metadata": {
    "vscode": {
     "languageId": "rust"
    }
   },
   "outputs": [],
   "source": [
    "let x: u8 = 255;\n",
    "let y = x.wrapping_add(1); // y is 0"
   ]
  },
  {
   "cell_type": "markdown",
   "metadata": {},
   "source": [
    "#### Checked Arithmetic\n",
    "\n",
    "* Using methods like `checked_add`, `checked_sub`, `checked_mul`, and `checked_neg`, which return `None` if the operation overflows."
   ]
  },
  {
   "cell_type": "code",
   "execution_count": 3,
   "metadata": {
    "vscode": {
     "languageId": "rust"
    }
   },
   "outputs": [
    {
     "name": "stdout",
     "output_type": "stream",
     "text": [
      "Overflow occurred\n"
     ]
    },
    {
     "data": {
      "text/plain": [
       "()"
      ]
     },
     "execution_count": 3,
     "metadata": {},
     "output_type": "execute_result"
    }
   ],
   "source": [
    "let x: u8 = 255;\n",
    "match x.checked_add(1) {\n",
    "    Some(result) => println!(\"Result: {}\", result),\n",
    "    None => println!(\"Overflow occurred\"),\n",
    "}"
   ]
  },
  {
   "cell_type": "markdown",
   "metadata": {},
   "source": [
    "#### Saturating Arithmetic:\n",
    "\n",
    "* Using methods like `saturating_add`, `saturating_sub`, and `saturating_mul`, which return the maximum or minimum value of the type on overflow."
   ]
  },
  {
   "cell_type": "code",
   "execution_count": 38,
   "metadata": {
    "vscode": {
     "languageId": "rust"
    }
   },
   "outputs": [],
   "source": [
    "let x: u8 = std::u8::MAX;\n",
    "let y = x.saturating_add(1); // y is 255"
   ]
  },
  {
   "cell_type": "markdown",
   "metadata": {},
   "source": [
    "#### Default Behavior in Debug Mode:\n",
    "\n",
    "In Rust's default debug mode, integer overflow checks are enabled. If an overflow occurs, the program will panic, making it easier to catch bugs during development."
   ]
  },
  {
   "cell_type": "markdown",
   "metadata": {},
   "source": [
    "### Release Mode\n",
    "\n",
    "In release mode (with optimizations), overflow checks are disabled for performance reasons, and the overflow will wrap around silently (equivalent to `wrapping_*` methods)."
   ]
  },
  {
   "cell_type": "markdown",
   "metadata": {},
   "source": [
    "## Floating point types\n",
    "\n",
    "* Rust’s floating-point types are:\n",
    "  * `f32` - 32 bits in size\n",
    "  * `f64` - 64 bits in size"
   ]
  },
  {
   "cell_type": "code",
   "execution_count": 40,
   "metadata": {
    "vscode": {
     "languageId": "rust"
    }
   },
   "outputs": [
    {
     "name": "stdout",
     "output_type": "stream",
     "text": [
      "pi: 3.14\n",
      "e: 2.72\n",
      "sqrt(2): 1.4142135623730951\n",
      "NaN: NaN\n"
     ]
    }
   ],
   "source": [
    "fn main() {\n",
    "    let x = 2.0f64; // f64\n",
    "\n",
    "    let y: f32 = 3.0; // f32\n",
    "\n",
    "    let pi = std::f64::consts::PI; // f64\n",
    "    let e = std::f32::consts::E; // f32\n",
    "\n",
    "    println!(\"pi: {pi:.2}\");\n",
    "    println!(\"e: {e:.2}\");\n",
    "\n",
    "    let sqrt_2 = 2.0f64.sqrt(); // f64\n",
    "    println!(\"sqrt(2): {sqrt_2}\");\n",
    "\n",
    "    let nan = 0.0/0.0;\n",
    "    println!(\"NaN: {nan}\");\n",
    "}\n",
    "\n",
    "main();"
   ]
  },
  {
   "cell_type": "markdown",
   "metadata": {},
   "source": [
    "## Numeric operations"
   ]
  },
  {
   "cell_type": "markdown",
   "metadata": {},
   "source": [
    "* Addition"
   ]
  },
  {
   "cell_type": "code",
   "execution_count": 39,
   "metadata": {
    "vscode": {
     "languageId": "rust"
    }
   },
   "outputs": [
    {
     "data": {
      "text/plain": [
       "15"
      ]
     },
     "execution_count": 39,
     "metadata": {},
     "output_type": "execute_result"
    }
   ],
   "source": [
    "let sum = 5 + 10;\n",
    "sum"
   ]
  },
  {
   "cell_type": "markdown",
   "metadata": {},
   "source": [
    "* Subtraction"
   ]
  },
  {
   "cell_type": "code",
   "execution_count": 40,
   "metadata": {
    "vscode": {
     "languageId": "rust"
    }
   },
   "outputs": [
    {
     "data": {
      "text/plain": [
       "50.1"
      ]
     },
     "execution_count": 40,
     "metadata": {},
     "output_type": "execute_result"
    }
   ],
   "source": [
    "let difference = 95.5 - 45.4;\n",
    "difference"
   ]
  },
  {
   "cell_type": "markdown",
   "metadata": {},
   "source": [
    "* Multiplication"
   ]
  },
  {
   "cell_type": "code",
   "execution_count": 43,
   "metadata": {
    "vscode": {
     "languageId": "rust"
    }
   },
   "outputs": [
    {
     "data": {
      "text/plain": [
       "42"
      ]
     },
     "execution_count": 43,
     "metadata": {},
     "output_type": "execute_result"
    }
   ],
   "source": [
    "let product = 21 * 2;\n",
    "product"
   ]
  },
  {
   "cell_type": "markdown",
   "metadata": {},
   "source": [
    "* Division"
   ]
  },
  {
   "cell_type": "code",
   "execution_count": 45,
   "metadata": {
    "vscode": {
     "languageId": "rust"
    }
   },
   "outputs": [
    {
     "data": {
      "text/plain": [
       "4.685950413223141"
      ]
     },
     "execution_count": 45,
     "metadata": {},
     "output_type": "execute_result"
    }
   ],
   "source": [
    "let quotient = 56.7 / 12.1;\n",
    "quotient"
   ]
  },
  {
   "cell_type": "code",
   "execution_count": 53,
   "metadata": {
    "vscode": {
     "languageId": "rust"
    }
   },
   "outputs": [
    {
     "data": {
      "text/plain": [
       "2"
      ]
     },
     "execution_count": 53,
     "metadata": {},
     "output_type": "execute_result"
    }
   ],
   "source": [
    "let truncated = 15 / 7;\n",
    "truncated"
   ]
  },
  {
   "cell_type": "markdown",
   "metadata": {},
   "source": [
    "* Modulo"
   ]
  },
  {
   "cell_type": "code",
   "execution_count": 52,
   "metadata": {
    "vscode": {
     "languageId": "rust"
    }
   },
   "outputs": [
    {
     "data": {
      "text/plain": [
       "1"
      ]
     },
     "execution_count": 52,
     "metadata": {},
     "output_type": "execute_result"
    }
   ],
   "source": [
    "let reminder = 15 % 7;\n",
    "reminder"
   ]
  },
  {
   "cell_type": "markdown",
   "metadata": {},
   "source": [
    "## The Boolean Type"
   ]
  },
  {
   "cell_type": "code",
   "execution_count": 41,
   "metadata": {
    "vscode": {
     "languageId": "rust"
    }
   },
   "outputs": [
    {
     "name": "stdout",
     "output_type": "stream",
     "text": [
      "is_ok=false\n"
     ]
    }
   ],
   "source": [
    "let mut is_ok: bool = true;\n",
    "\n",
    "is_ok = false;\n",
    "\n",
    "println!(\"is_ok={}\", is_ok);"
   ]
  },
  {
   "cell_type": "markdown",
   "metadata": {},
   "source": [
    "## The Character Type"
   ]
  },
  {
   "cell_type": "code",
   "execution_count": 59,
   "metadata": {
    "vscode": {
     "languageId": "rust"
    }
   },
   "outputs": [],
   "source": [
    "let c = 'z';\n",
    "let character: char = 'Z'; // explicit type annotation\n",
    "let heart_eyed_cat = '😻';"
   ]
  },
  {
   "cell_type": "markdown",
   "metadata": {},
   "source": [
    "* `char` is always four bytes in size\n",
    "* `char` is a ‘Unicode scalar value’, which is any ‘Unicode code point’ other than a surrogate code point. This has a fixed numerical definition: code points are in the range 0 to 0x10FFFF, inclusive. Surrogate code points, used by UTF-16, are in the range 0xD800 to 0xDFFF.\n",
    "\n"
   ]
  },
  {
   "cell_type": "code",
   "execution_count": 42,
   "metadata": {
    "vscode": {
     "languageId": "rust"
    }
   },
   "outputs": [
    {
     "data": {
      "text/plain": [
       "4"
      ]
     },
     "execution_count": 42,
     "metadata": {},
     "output_type": "execute_result"
    }
   ],
   "source": [
    "std::mem::size_of::<char>()"
   ]
  },
  {
   "cell_type": "code",
   "execution_count": 44,
   "metadata": {
    "vscode": {
     "languageId": "rust"
    }
   },
   "outputs": [],
   "source": [
    "let v = vec!['h', 'e', 'l', 'l', 'o', '😻'];\n",
    "\n",
    "// five elements times four bytes for each element\n",
    "assert_eq!(24, v.len() * std::mem::size_of::<char>());"
   ]
  },
  {
   "cell_type": "markdown",
   "metadata": {},
   "source": [
    "## Type checking and conversions"
   ]
  },
  {
   "cell_type": "code",
   "execution_count": 45,
   "metadata": {
    "vscode": {
     "languageId": "rust"
    }
   },
   "outputs": [
    {
     "ename": "Error",
     "evalue": "mismatched types",
     "output_type": "error",
     "traceback": [
      "\u001b[31m[E0308] Error:\u001b[0m mismatched types",
      "   \u001b[38;5;246m╭\u001b[0m\u001b[38;5;246m─\u001b[0m\u001b[38;5;246m[\u001b[0mcommand_45:1:1\u001b[38;5;246m]\u001b[0m",
      "   \u001b[38;5;246m│\u001b[0m",
      " \u001b[38;5;246m2 │\u001b[0m \u001b[38;5;249ml\u001b[0m\u001b[38;5;249me\u001b[0m\u001b[38;5;249mt\u001b[0m\u001b[38;5;249m \u001b[0m\u001b[38;5;249mf\u001b[0m\u001b[38;5;249mi\u001b[0m\u001b[38;5;249mn\u001b[0m\u001b[38;5;249ma\u001b[0m\u001b[38;5;249ml\u001b[0m\u001b[38;5;249m_\u001b[0m\u001b[38;5;249ms\u001b[0m\u001b[38;5;249mc\u001b[0m\u001b[38;5;249mo\u001b[0m\u001b[38;5;249mr\u001b[0m\u001b[38;5;249me\u001b[0m\u001b[38;5;249m:\u001b[0m\u001b[38;5;249m \u001b[0m\u001b[38;5;100mu\u001b[0m\u001b[38;5;100m3\u001b[0m\u001b[38;5;100m2\u001b[0m\u001b[38;5;249m \u001b[0m\u001b[38;5;249m=\u001b[0m\u001b[38;5;249m \u001b[0m\u001b[38;5;54ms\u001b[0m\u001b[38;5;54mc\u001b[0m\u001b[38;5;54mo\u001b[0m\u001b[38;5;54mr\u001b[0m\u001b[38;5;54me\u001b[0m\u001b[38;5;249m;\u001b[0m",
      " \u001b[38;5;240m  │\u001b[0m                  \u001b[38;5;100m─\u001b[0m\u001b[38;5;100m┬\u001b[0m\u001b[38;5;100m─\u001b[0m   \u001b[38;5;54m─\u001b[0m\u001b[38;5;54m─\u001b[0m\u001b[38;5;54m┬\u001b[0m\u001b[38;5;54m─\u001b[0m\u001b[38;5;54m─\u001b[0m\u001b[38;5;68m│\u001b[0m ",
      " \u001b[38;5;240m  │\u001b[0m                   \u001b[38;5;100m╰\u001b[0m\u001b[38;5;100m─\u001b[0m\u001b[38;5;100m─\u001b[0m\u001b[38;5;100m─\u001b[0m\u001b[38;5;100m─\u001b[0m\u001b[38;5;100m─\u001b[0m\u001b[38;5;100m─\u001b[0m\u001b[38;5;100m─\u001b[0m\u001b[38;5;100m─\u001b[0m\u001b[38;5;100m─\u001b[0m\u001b[38;5;100m─\u001b[0m\u001b[38;5;100m─\u001b[0m expected due to this",
      " \u001b[38;5;240m  │\u001b[0m                          \u001b[38;5;54m│\u001b[0m  \u001b[38;5;68m│\u001b[0m ",
      " \u001b[38;5;240m  │\u001b[0m                          \u001b[38;5;54m╰\u001b[0m\u001b[38;5;54m─\u001b[0m\u001b[38;5;54m─\u001b[0m\u001b[38;5;54m─\u001b[0m\u001b[38;5;54m─\u001b[0m expected `u32`, found `i32`",
      " \u001b[38;5;240m  │\u001b[0m                             \u001b[38;5;68m│\u001b[0m ",
      " \u001b[38;5;240m  │\u001b[0m                             \u001b[38;5;68m╰\u001b[0m\u001b[38;5;68m─\u001b[0m help: you can convert an `i32` to a `u32` and panic if the converted value doesn't fit: `.try_into().unwrap()`",
      "\u001b[38;5;246m───╯\u001b[0m"
     ]
    },
    {
     "ename": "Error",
     "evalue": "unused variable: `x`",
     "output_type": "error",
     "traceback": [
      "\u001b[31m[unused_variables] Error:\u001b[0m unused variable: `x`"
     ]
    },
    {
     "ename": "Error",
     "evalue": "unused variable: `y`",
     "output_type": "error",
     "traceback": [
      "\u001b[31m[unused_variables] Error:\u001b[0m unused variable: `y`"
     ]
    }
   ],
   "source": [
    "let score: i32 = 42;\n",
    "let final_score: u32 = score;"
   ]
  },
  {
   "cell_type": "markdown",
   "metadata": {},
   "source": [
    "* Explicit conversion using `as` (also called a casting)"
   ]
  },
  {
   "cell_type": "code",
   "execution_count": 64,
   "metadata": {
    "vscode": {
     "languageId": "rust"
    }
   },
   "outputs": [],
   "source": [
    "let score: i32 = 42;\n",
    "let final_score: u32 = score as u32;"
   ]
  },
  {
   "cell_type": "markdown",
   "metadata": {},
   "source": [
    "* Type must be convertible to the new type"
   ]
  },
  {
   "cell_type": "code",
   "execution_count": 51,
   "metadata": {
    "vscode": {
     "languageId": "rust"
    }
   },
   "outputs": [],
   "source": [
    "// let name = \"Rusty\";\n",
    "// let id: i32 = name as i32;\n",
    "\n",
    "let v_str = \"42\";\n",
    "let v_num: i32 = v_str.parse().unwrap();"
   ]
  },
  {
   "cell_type": "markdown",
   "metadata": {
    "vscode": {
     "languageId": "rust"
    }
   },
   "source": [
    "# Compound types"
   ]
  },
  {
   "cell_type": "markdown",
   "metadata": {},
   "source": [
    "## Arrays"
   ]
  },
  {
   "cell_type": "code",
   "execution_count": 57,
   "metadata": {
    "vscode": {
     "languageId": "rust"
    }
   },
   "outputs": [],
   "source": [
    "let numbers: [i32; 6] = [1, 2, 3, 4, 5, 6];\n",
    "\n",
    "let months = [\"January\", \"February\", \"March\", \"April\", \"May\", \"June\", \"July\",\n",
    "              \"August\", \"September\", \"October\", \"November\", \"December\"];\n",
    "\n",
    "let temperatures: [f64; 7] = [23.5, 25.1, 21.8, 20.7, 22.3, 24.9, 26.6];"
   ]
  },
  {
   "cell_type": "code",
   "execution_count": 58,
   "metadata": {
    "vscode": {
     "languageId": "rust"
    }
   },
   "outputs": [
    {
     "data": {
      "text/plain": [
       "[1, 1, 1, 1, 1, 1, 1, 1, 1, 1]"
      ]
     },
     "execution_count": 58,
     "metadata": {},
     "output_type": "execute_result"
    }
   ],
   "source": [
    "let values = [1; 10];\n",
    "values"
   ]
  },
  {
   "cell_type": "markdown",
   "metadata": {},
   "source": [
    "### Accessing array elements"
   ]
  },
  {
   "cell_type": "code",
   "execution_count": 59,
   "metadata": {
    "vscode": {
     "languageId": "rust"
    }
   },
   "outputs": [],
   "source": [
    "let first = numbers[0];\n",
    "let second = numbers[1];\n",
    "let last = numbers[5];"
   ]
  },
  {
   "cell_type": "markdown",
   "metadata": {},
   "source": [
    "### Invalid array element access"
   ]
  },
  {
   "cell_type": "code",
   "execution_count": 60,
   "metadata": {
    "vscode": {
     "languageId": "rust"
    }
   },
   "outputs": [
    {
     "name": "stderr",
     "output_type": "stream",
     "text": [
      "thread '<unnamed>' panicked at src/lib.rs:163:40:\n",
      "index out of bounds: the len is 6 but the index is 6\n",
      "stack backtrace:\n",
      "   0: std::panicking::begin_panic_handler\n",
      "             at /rustc/f6e511eec7342f59a25f7c0534f1dbea00d01b14\\library/std\\src\\panicking.rs:662\n",
      "   1: core::panicking::panic_fmt\n",
      "             at /rustc/f6e511eec7342f59a25f7c0534f1dbea00d01b14\\library/core\\src\\panicking.rs:74\n",
      "   2: core::panicking::panic_bounds_check\n",
      "             at /rustc/f6e511eec7342f59a25f7c0534f1dbea00d01b14\\library/core\\src\\panicking.rs:276\n",
      "   3: <unknown>\n",
      "   4: <unknown>\n",
      "   5: <unknown>\n",
      "   6: <unknown>\n",
      "   7: <unknown>\n",
      "   8: <unknown>\n",
      "   9: <unknown>\n",
      "  10: <unknown>\n",
      "  11: <unknown>\n",
      "  12: BaseThreadInitThunk\n",
      "  13: RtlUserThreadStart\n",
      "note: Some details are omitted, run with `RUST_BACKTRACE=full` for a verbose backtrace.\n"
     ]
    }
   ],
   "source": [
    "numbers[6] // panic"
   ]
  },
  {
   "cell_type": "markdown",
   "metadata": {},
   "source": [
    "\n",
    "## Tuples"
   ]
  },
  {
   "cell_type": "code",
   "execution_count": 61,
   "metadata": {
    "vscode": {
     "languageId": "rust"
    }
   },
   "outputs": [],
   "source": [
    "let tpl: (u8, i32, f64) = (1, 42, 665.99);\n",
    "let another_tpl = (128, 665, 3.14159);"
   ]
  },
  {
   "cell_type": "code",
   "execution_count": 66,
   "metadata": {
    "vscode": {
     "languageId": "rust"
    }
   },
   "outputs": [
    {
     "name": "stdout",
     "output_type": "stream",
     "text": [
      "first=James, last=Bond\n"
     ]
    }
   ],
   "source": [
    "let person = (\"James\", \"Bond\", 42, 7f64);\n",
    "let (first, last, ..) = person;\n",
    "println!(\"first={}, last={last}\", first);"
   ]
  },
  {
   "cell_type": "markdown",
   "metadata": {},
   "source": [
    "### Accessing tuple elements"
   ]
  },
  {
   "cell_type": "code",
   "execution_count": 68,
   "metadata": {
    "vscode": {
     "languageId": "rust"
    }
   },
   "outputs": [],
   "source": [
    "let first = tpl.0;\n",
    "let second = tpl.1;\n",
    "let third = tpl.2;"
   ]
  },
  {
   "cell_type": "code",
   "execution_count": 71,
   "metadata": {
    "vscode": {
     "languageId": "rust"
    }
   },
   "outputs": [
    {
     "name": "stdout",
     "output_type": "stream",
     "text": [
      "name=James\n"
     ]
    }
   ],
   "source": [
    "let n = 1;\n",
    "println!(\"name={}\", person.0);"
   ]
  },
  {
   "cell_type": "markdown",
   "metadata": {},
   "source": [
    "## Unit\n",
    "\n",
    "* The tuple without any values has a special name, **unit**. This value and its corresponding type are both written `()` and represent an empty value or an empty return type. \n",
    "* Expressions implicitly return the unit value if they don’t return any other value."
   ]
  },
  {
   "cell_type": "code",
   "execution_count": 75,
   "metadata": {
    "vscode": {
     "languageId": "rust"
    }
   },
   "outputs": [
    {
     "data": {
      "text/plain": [
       "()"
      ]
     },
     "execution_count": 75,
     "metadata": {},
     "output_type": "execute_result"
    }
   ],
   "source": [
    "let unit: () = ();\n",
    "unit"
   ]
  },
  {
   "cell_type": "code",
   "execution_count": 77,
   "metadata": {
    "vscode": {
     "languageId": "rust"
    }
   },
   "outputs": [
    {
     "name": "stdout",
     "output_type": "stream",
     "text": [
      "x=42\n"
     ]
    },
    {
     "data": {
      "text/plain": [
       "()"
      ]
     },
     "execution_count": 77,
     "metadata": {},
     "output_type": "execute_result"
    }
   ],
   "source": [
    "fn foo(x: i32) {\n",
    "    println!(\"x={}\", x);\n",
    "}\n",
    "\n",
    "foo(42)"
   ]
  },
  {
   "cell_type": "code",
   "execution_count": null,
   "metadata": {
    "vscode": {
     "languageId": "rust"
    }
   },
   "outputs": [],
   "source": []
  }
 ],
 "metadata": {
  "kernelspec": {
   "display_name": "Rust",
   "language": "rust",
   "name": "rust"
  },
  "language_info": {
   "codemirror_mode": "rust",
   "file_extension": ".rs",
   "mimetype": "text/rust",
   "name": "Rust",
   "pygment_lexer": "rust",
   "version": ""
  }
 },
 "nbformat": 4,
 "nbformat_minor": 4
}
